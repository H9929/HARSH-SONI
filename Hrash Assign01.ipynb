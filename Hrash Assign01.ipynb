{
 "cells": [
  {
   "cell_type": "raw",
   "id": "a5c3e3b5",
   "metadata": {},
   "source": [
    "1.\tA company decided to give bonus of 5% to employee if his/her year of service is more than 5 years. Ask user for their salary and year of service and print the net bonus amount."
   ]
  },
  {
   "cell_type": "code",
   "execution_count": 1,
   "id": "0326da5a",
   "metadata": {},
   "outputs": [
    {
     "name": "stdout",
     "output_type": "stream",
     "text": [
      "Enter your salary2000\n",
      "how many years of your service in our company6\n",
      "your net bonous amount is  100.0\n"
     ]
    }
   ],
   "source": [
    "salary = int(input(\"Enter your salary\"))\n",
    "service = int(input(\"how many years of your service in our company\"))\n",
    "if service >5:\n",
    "    bouns = 0.05*salary\n",
    "    print(\"your net bonous amount is \",bouns)\n",
    "else:\n",
    "    print(\"your bonous cannot be generated due to your service is not more than 5 year \")"
   ]
  },
  {
   "cell_type": "raw",
   "id": "d5f6b9b8",
   "metadata": {},
   "source": [
    "2.\tA school has following rules for grading system:\n",
    "a.\tBelow 25 - F\n",
    "b.\t25 to 45 - E\n",
    "c.\t45 to 50 - D\n",
    "d.\t50 to 60 - C\n",
    "e.\t60 to 80 - B\n",
    "f.\tAbove 80 - A\n",
    "Ask user to enter marks and print the corresponding grade.\n"
   ]
  },
  {
   "cell_type": "code",
   "execution_count": 2,
   "id": "407e9736",
   "metadata": {},
   "outputs": [
    {
     "name": "stdout",
     "output_type": "stream",
     "text": [
      "Enter your marks60\n",
      "your grade is B\n"
     ]
    }
   ],
   "source": [
    "marks = int(input(\"Enter your marks\"))\n",
    "text =\"your grade is\"\n",
    "if marks<25:\n",
    "    print(text,\"F\")\n",
    "elif 25<=marks<45:\n",
    "    print(text,\"E\")\n",
    "elif 45<=marks<50:\n",
    "    print(text,\"D\")\n",
    "elif 50<=marks<60:\n",
    "    print(text,\"C\")\n",
    "elif 60<=marks<80:\n",
    "    print(text,\"B\")\n",
    "else:\n",
    "    print(text,\"A\")"
   ]
  },
  {
   "cell_type": "raw",
   "id": "2128acc1",
   "metadata": {},
   "source": [
    "3.\tA student will not be allowed to sit in exam if his/her attendence is less than 75%. Take following input from user\n",
    "Number of classes held Number of classes attended.\n",
    "And print\n",
    "percentage of class attended\n",
    "Is student is allowed to sit in exam or not.\n"
   ]
  },
  {
   "cell_type": "code",
   "execution_count": 3,
   "id": "675f83c4",
   "metadata": {},
   "outputs": [
    {
     "name": "stdout",
     "output_type": "stream",
     "text": [
      "how many classes are held10\n",
      "how many classes are attend by student50\n",
      "total percentageof this student is 500.0 %\n",
      "this student can be sit in final exam\n"
     ]
    }
   ],
   "source": [
    "classheld = int(input(\"how many classes are held\"))\n",
    "classattend = int(input(\"how many classes are attend by student\"))\n",
    "\n",
    "per = classattend/classheld * 100\n",
    "print(\"total percentageof this student is\",per,\"%\")\n",
    "if per<75:\n",
    "    print(\"this student cannot be sit in final exam\")\n",
    "else:\n",
    "    print(\"this student can be sit in final exam\")"
   ]
  },
  {
   "cell_type": "raw",
   "id": "f81cea68",
   "metadata": {},
   "source": [
    "4.\tAsk user to enter age, sex ( M or F ), marital status ( Y or N ) and then using following rules print their place of service.\n",
    "if employee is female, then she will work only in urban areas.\n",
    "\n",
    "\n",
    "if employee is a male and age is in between 20 to 40 then he may work in anywhere\n",
    "\n",
    "\n",
    "if employee is male and age is in between 40 t0 60 then he will work in urban areas only\n"
   ]
  },
  {
   "cell_type": "code",
   "execution_count": 2,
   "id": "776fac23",
   "metadata": {},
   "outputs": [
    {
     "name": "stdout",
     "output_type": "stream",
     "text": [
      "enter your age30\n",
      "what is you gender if male type m if female type fm\n",
      "if married type y else type NN\n",
      "you can work from anywhere\n"
     ]
    }
   ],
   "source": [
    "age = int(input(\"enter your age\"))\n",
    "\n",
    "gender = input(\"what is you gender if male type m if female type f\")\n",
    "\n",
    "m_status = input(\"if married type y else type N\")\n",
    "\n",
    "if gender==\"f\":\n",
    "\n",
    "    print(\"you can only work in urban areas\")\n",
    "\n",
    "elif gender==\"m\" and (age>=20 and age<40):\n",
    "\n",
    "    print(\"you can work from anywhere\")\n",
    "\n",
    "elif gender==\"m\" and (age>=40 and age<=60):\n",
    "\n",
    "    print(\"you can work in urban areas only\")\n",
    "\n",
    "elif not(age<20 and age>60):\n",
    "\n",
    "    print(\"error\")"
   ]
  },
  {
   "cell_type": "raw",
   "id": "be4533fa",
   "metadata": {},
   "source": [
    "5.\tTake 10 integers from keyboard using loop and print their average value on the screen\n"
   ]
  },
  {
   "cell_type": "code",
   "execution_count": 1,
   "id": "aa8f8e60",
   "metadata": {},
   "outputs": [
    {
     "name": "stdout",
     "output_type": "stream",
     "text": [
      "1\n",
      "2\n",
      "3\n",
      "4\n",
      "5\n",
      "6\n",
      "7\n",
      "8\n",
      "9\n",
      "10\n"
     ]
    }
   ],
   "source": [
    "for i in range(1, 11):\n",
    "    print(i)\n",
    "\n"
   ]
  },
  {
   "cell_type": "raw",
   "id": "aa1038bd",
   "metadata": {},
   "source": [
    "6.\tWrite a program to calculate factorial of a number."
   ]
  },
  {
   "cell_type": "code",
   "execution_count": 5,
   "id": "d6d98e12",
   "metadata": {},
   "outputs": [
    {
     "name": "stdout",
     "output_type": "stream",
     "text": [
      "Enter number : 10\n",
      "Factorial = 3628800\n"
     ]
    }
   ],
   "source": [
    "i = int(input(\"Enter number : \"))\n",
    "fac = 1\n",
    "while i > 0:\n",
    "    fac=fac*i\n",
    "    i=i-1\n",
    "print(\"Factorial =\", fac)"
   ]
  },
  {
   "cell_type": "raw",
   "id": "c5ce3eb2",
   "metadata": {},
   "source": [
    "7.\tTake integer inputs from user until he/she presses q ( Ask to press q to quit after every integer input ). Print average and product of all numbers"
   ]
  },
  {
   "cell_type": "code",
   "execution_count": null,
   "id": "eb0c317f",
   "metadata": {},
   "outputs": [],
   "source": [
    "print(\"Start entering numbers\")\n",
    "sum=0\n",
    "c=0\n",
    "while 1:\n",
    "    num=int(input())\n",
    "    c=c+1\n",
    "    sum=sum+num\n",
    "    print(\"Press q when you are done inputting the numbers or y to continue\")\n",
    "    m=input()\n",
    "    if m=='q':\n",
    "        break\n",
    "    \n",
    "print(\"Average\",sum/c)\n",
    "print(\"Sum\",sum)\n",
    " "
   ]
  },
  {
   "cell_type": "raw",
   "id": "425d0620",
   "metadata": {},
   "source": [
    "8.\tA three digit number is called Armstrong number if sum of cube of its digit is equal to number itself."
   ]
  },
  {
   "cell_type": "code",
   "execution_count": 8,
   "id": "9aaaa840",
   "metadata": {},
   "outputs": [
    {
     "name": "stdout",
     "output_type": "stream",
     "text": [
      "R. B. Roser\n"
     ]
    }
   ],
   "source": [
    "a = \"Robert Brett Roser\"\n",
    "a = a.split()\n",
    "b =  a[0][0]+\". \"+a[1][0]+\". \"+a[2]\n",
    "print(b)"
   ]
  },
  {
   "cell_type": "raw",
   "id": "ca8daf14",
   "metadata": {},
   "source": [
    "9.\tWrite a program to find the length of the string \"refrigerator\" without using len function."
   ]
  },
  {
   "cell_type": "code",
   "execution_count": 6,
   "id": "a1c350ab",
   "metadata": {},
   "outputs": [
    {
     "name": "stdout",
     "output_type": "stream",
     "text": [
      "12\n"
     ]
    }
   ],
   "source": [
    "a = \"refrigerator\"\n",
    "count = 0\n",
    "for i in a:\n",
    "    count = count+1\n",
    "print(count)"
   ]
  },
  {
   "cell_type": "raw",
   "id": "a5d8ec2b",
   "metadata": {},
   "source": [
    "10.\tWrite a program that takes your full name as input and displays the abbreviations of the first and middle names except the last name which is displayed as it is. For example, if your name is Robert Brett Roser, then the output should be R.B.Roser."
   ]
  },
  {
   "cell_type": "code",
   "execution_count": 9,
   "id": "f5b0c1c9",
   "metadata": {},
   "outputs": [
    {
     "name": "stdout",
     "output_type": "stream",
     "text": [
      "Enter a number: 447\n",
      "447 is not an Armstrong number\n"
     ]
    }
   ],
   "source": [
    "num = int(input(\"Enter a number: \"))\n",
    "sum = 0\n",
    "temp = num\n",
    "while temp > 0:\n",
    "   digit = temp % 10\n",
    "   sum += digit ** 3\n",
    "   temp //= 10\n",
    "if num == sum:\n",
    "   print(num,\"is an Armstrong number\")\n",
    "else:\n",
    "   print(num,\"is not an Armstrong number\")"
   ]
  },
  {
   "cell_type": "code",
   "execution_count": null,
   "id": "6009396d",
   "metadata": {},
   "outputs": [],
   "source": []
  }
 ],
 "metadata": {
  "kernelspec": {
   "display_name": "Python 3",
   "language": "python",
   "name": "python3"
  },
  "language_info": {
   "codemirror_mode": {
    "name": "ipython",
    "version": 3
   },
   "file_extension": ".py",
   "mimetype": "text/x-python",
   "name": "python",
   "nbconvert_exporter": "python",
   "pygments_lexer": "ipython3",
   "version": "3.8.8"
  }
 },
 "nbformat": 4,
 "nbformat_minor": 5
}
